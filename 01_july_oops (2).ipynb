{
 "cells": [
  {
   "cell_type": "code",
   "execution_count": null,
   "id": "70496b5e-c001-4fa2-a637-2d90ffac9008",
   "metadata": {},
   "outputs": [],
   "source": [
    "#1. what is primary goal of objected oriented programing?\n",
    "\"\"\"\n",
    "solution = (oop) is the process of structuring a program with bundling \n",
    "related properties , It makes the program easy to understand and efficient.\n",
    "\n",
    "The major goal are :-\n",
    "\n",
    "1 Reboustness = means it should give correct output for input we give also detect\n",
    "error in program whenever required\n",
    "\n",
    "2 adaptability = means application should be ready to adapt the new updates and new technology\n",
    "\n",
    "3 reusability = means program should be resuable\n",
    "\"\"\"\n",
    "\n",
    "\n",
    "\n",
    " "
   ]
  },
  {
   "cell_type": "code",
   "execution_count": null,
   "id": "dd49b405-4aa5-418a-add2-9eb21d049151",
   "metadata": {},
   "outputs": [],
   "source": []
  },
  {
   "cell_type": "code",
   "execution_count": null,
   "id": "28825d4a-aa43-4ad9-bc7d-f308616a459c",
   "metadata": {},
   "outputs": [],
   "source": [
    "#2. what is an object in python?\n",
    "\"\"\"\n",
    "solution=object are the variable that contain data and function which is used \n",
    "to manuplate the data.\n",
    "object data can contain many types such as :-\n",
    "1 string\n",
    "2 integer\n",
    "3 floats\n",
    "\"\"\"\n"
   ]
  },
  {
   "cell_type": "code",
   "execution_count": null,
   "id": "9ccc707b-f259-4490-afeb-00febf7d16af",
   "metadata": {},
   "outputs": [],
   "source": [
    "#3. what is class in python ?\n",
    "\"\"\"\n",
    "soultion = class in python are used to structure a program with properties\n",
    "of bundling the data,class contain attributes and method.\n",
    "\"\"\""
   ]
  },
  {
   "cell_type": "code",
   "execution_count": null,
   "id": "a904d30c-f1e0-4a37-a4d9-02f131d92563",
   "metadata": {},
   "outputs": [],
   "source": [
    "#4 what are attribute and method in class?\n",
    "\"\"\"\n",
    "In Python, \n",
    "methods are functions associated with a specific\n",
    "object or class and are utilized to perform particular assignments.\n",
    "Attributes are data related to an object or class and can be used to store\n",
    "information or state.\n",
    "\"\"\"\n",
    "\n"
   ]
  },
  {
   "cell_type": "code",
   "execution_count": null,
   "id": "94cbf17c-8472-4bba-99d3-0de1abb04cbc",
   "metadata": {},
   "outputs": [],
   "source": [
    "#5. what is difference between class variable and instance variable?\n",
    "\"\"\"\n",
    "solution=\n",
    "\n",
    "class variable= class variable are variable that are shared by all instance of classes,they\n",
    "are define with in the classes but outside the constructor and method,classes \n",
    "are associated within the classes rather than any instance of classes\n",
    "\n",
    "instance variable= The variables that are declared inside the class but outside the scope of any method are called instance variables \n",
    "The instance variable is initialized at the time of the class loading or when an object of the class is created.\n",
    "An instance variable can be declared using different access modifiers like default, private, public, and protected.\n",
    "\n",
    "\n",
    "\n",
    "\n"
   ]
  },
  {
   "cell_type": "code",
   "execution_count": null,
   "id": "cf93269c-61bd-4c74-9edf-78783d70df9f",
   "metadata": {},
   "outputs": [],
   "source": [
    "#6. what is purpose self parameter in python class?\n",
    "\"\"\"\n",
    "solution= self parameter is used to define the instance of class\n",
    "it allows to access variable,attributes ,methods in python class\n",
    "self parameter does not have a parameter self as it can be called by any \n",
    "other name.\n",
    "\"\"\"\n",
    "\n"
   ]
  },
  {
   "cell_type": "code",
   "execution_count": 40,
   "id": "874e8095-ac58-44e8-98d1-29c4344d3e14",
   "metadata": {
    "tags": []
   },
   "outputs": [],
   "source": [
    "# 7library management system\n",
    "class library:\n",
    "    def __init__(self,title,auther,ISBN,publication_year,avalible_copies):\n",
    "        self.title=title\n",
    "        self.auther=auther\n",
    "        self.ISBN=ISBN # ISBN=INTERNATIONAL STANDARD BOOK NUMBER\n",
    "        self.publication_year=publication_year\n",
    "        self.avalible_copies=avalible_copies\n",
    "    def check_out(self):\n",
    "        if self.avalible_copies>=1:\n",
    "            self.avalible_copies=self.avalible_copies-1\n",
    "            \n",
    "        else:\n",
    "            print('SORRY NO COPIES AVALIBLE')\n",
    "    def return_book(self):\n",
    "        if self.avalible_copies>=0:\n",
    "            self.avalible_copies=self.avalible_copies+1\n",
    "            \n",
    "    def display(self):\n",
    "        print(f'The title of book is {self.title}')\n",
    "        print(f'The auther of book is {self.auther}')\n",
    "        print(f'The INTERNATIONAL STANDARD BOOK NUMBER is {self.ISBN}')\n",
    "        print(f'The publication_year of book is {self.publication_year}')\n",
    "        print(f'The avalible_copies of book is {self.avalible_copies}')\n",
    "        \n",
    "        \n",
    "        \n",
    "        \n",
    "            \n",
    "        \n",
    "    \n"
   ]
  },
  {
   "cell_type": "code",
   "execution_count": 41,
   "id": "55a63e7d-c1ee-43d2-b6be-3168b5a0ee1e",
   "metadata": {
    "tags": []
   },
   "outputs": [
    {
     "name": "stdout",
     "output_type": "stream",
     "text": [
      "The title of book is indian economy\n",
      "The auther of book is Ramesh singh\n",
      "The INTERNATIONAL STANDARD BOOK NUMBER is 93-90727-42-1\n",
      "The publication_year of book is 2021\n",
      "The avalible_copies of book is 3000\n"
     ]
    }
   ],
   "source": [
    "library=library('indian economy','Ramesh singh','93-90727-42-1','2021',3000)\n",
    "library.display()\n"
   ]
  },
  {
   "cell_type": "code",
   "execution_count": 42,
   "id": "15fa24ce-02c5-4eae-ac46-43aebc333bee",
   "metadata": {
    "tags": []
   },
   "outputs": [],
   "source": [
    "library.check_out()"
   ]
  },
  {
   "cell_type": "code",
   "execution_count": 43,
   "id": "9352acb2-9015-4beb-9eb5-6d0207af57b5",
   "metadata": {
    "tags": []
   },
   "outputs": [
    {
     "name": "stdout",
     "output_type": "stream",
     "text": [
      "The title of book is indian economy\n",
      "The auther of book is Ramesh singh\n",
      "The INTERNATIONAL STANDARD BOOK NUMBER is 93-90727-42-1\n",
      "The publication_year of book is 2021\n",
      "The avalible_copies of book is 2999\n"
     ]
    }
   ],
   "source": [
    "library.display()\n"
   ]
  },
  {
   "cell_type": "code",
   "execution_count": 44,
   "id": "13749e90-342d-450b-8307-6fb45b19b9f8",
   "metadata": {
    "tags": []
   },
   "outputs": [],
   "source": [
    "library.return_book()"
   ]
  },
  {
   "cell_type": "code",
   "execution_count": 45,
   "id": "ec2a1499-b4a7-43f5-87fb-568137c34b40",
   "metadata": {
    "tags": []
   },
   "outputs": [
    {
     "name": "stdout",
     "output_type": "stream",
     "text": [
      "The title of book is indian economy\n",
      "The auther of book is Ramesh singh\n",
      "The INTERNATIONAL STANDARD BOOK NUMBER is 93-90727-42-1\n",
      "The publication_year of book is 2021\n",
      "The avalible_copies of book is 3000\n"
     ]
    }
   ],
   "source": [
    "library.display()"
   ]
  },
  {
   "cell_type": "code",
   "execution_count": null,
   "id": "534d3167-2dc6-464c-9753-1ec9e7c7639a",
   "metadata": {
    "tags": []
   },
   "outputs": [],
   "source": [
    "#8Ticket booking system\n",
    "class Ticket:\n",
    "    def __init__(self,ticket_id,event_name,event_date,venue,seat_number,price,is_reserved):\n",
    "        self.ticket_id=ticket_id\n",
    "        self.event_name=event_name\n",
    "        self.event_date=event_date\n",
    "        self.venue=venue\n",
    "        self.seat_number=seat_number\n",
    "        self.price=price\n",
    "        self.is_reserved=is_reserved\n",
    "    def reserved_ticket(self):\n",
    "        self.is_reserved='Reserved'\n",
    "        \n",
    "    def cancle_reservation(self):\n",
    "        self.is_reserved='unreserved'\n",
    "    \n",
    "    def display_ticket_info(self):\n",
    "        print(self.ticket_id)\n",
    "        print(self.event_name)\n",
    "        print(self.event_date)\n",
    "        print(self.venue)\n",
    "        print(self.seat_number)\n",
    "        print(self.price)\n",
    "        print(self.is_reserved)\n",
    "        \n",
    "            \n",
    "    \n"
   ]
  },
  {
   "cell_type": "code",
   "execution_count": null,
   "id": "a7b4e435-e91f-4faf-8fb0-10457d661b9f",
   "metadata": {
    "tags": []
   },
   "outputs": [],
   "source": [
    "Ticket=Ticket('@12345','new_year_party','1/01/2024','colours_mall','234','5000','unreserved')"
   ]
  },
  {
   "cell_type": "code",
   "execution_count": null,
   "id": "6be0fc47-2def-4278-b8cc-a5c3755fd91f",
   "metadata": {
    "tags": []
   },
   "outputs": [],
   "source": [
    "Ticket.display_ticket_info()"
   ]
  },
  {
   "cell_type": "code",
   "execution_count": null,
   "id": "2e6fbd87-4778-47d3-8122-6b6476ba0464",
   "metadata": {
    "tags": []
   },
   "outputs": [],
   "source": [
    "Ticket.reserved_ticket()"
   ]
  },
  {
   "cell_type": "code",
   "execution_count": null,
   "id": "f5dd681a-ce48-46c1-98ec-3a240dd94591",
   "metadata": {
    "tags": []
   },
   "outputs": [],
   "source": [
    "Ticket.display_ticket_info()"
   ]
  },
  {
   "cell_type": "code",
   "execution_count": null,
   "id": "14dcb2df-7b71-4e12-b11c-c6eb9b3fbea5",
   "metadata": {
    "tags": []
   },
   "outputs": [],
   "source": [
    "Ticket.cancle_reservation()"
   ]
  },
  {
   "cell_type": "code",
   "execution_count": null,
   "id": "4155d27c-12ec-4f8c-814c-d0dc7a0dc07a",
   "metadata": {
    "tags": []
   },
   "outputs": [],
   "source": [
    "Ticket.display_ticket_info()"
   ]
  },
  {
   "cell_type": "code",
   "execution_count": 6,
   "id": "908d570d-51f9-41c3-bc2c-829fc474c17f",
   "metadata": {},
   "outputs": [],
   "source": [
    "#9 shopping cart e-commerce website\n",
    "class shopping_cart:\n",
    "    def __init__(self):\n",
    "        self.items=[]\n",
    "    def add_items(self,items):\n",
    "        self.items.append(items)\n",
    "    def remove_items(self,items):\n",
    "        if items in self.items:\n",
    "            self.items.remove(items)\n",
    "        else:\n",
    "            print(\"No item found in cart\")\n",
    "    def clear_cart(self):\n",
    "        self.items.clear()\n",
    "    \n",
    "    def view_cart(self):\n",
    "        for item in self.items:\n",
    "            print(item)\n",
    "           \n",
    "    \n",
    "        \n",
    "  \n",
    "    \n",
    "    \n",
    "            \n",
    "        \n",
    "    "
   ]
  },
  {
   "cell_type": "code",
   "execution_count": 7,
   "id": "256e2543-9a0b-4aa0-940f-9586849fe72e",
   "metadata": {
    "tags": []
   },
   "outputs": [],
   "source": [
    "cart=shopping_cart()"
   ]
  },
  {
   "cell_type": "code",
   "execution_count": 8,
   "id": "11c61e99-bd35-4bc3-9cb6-bba70ce53a5f",
   "metadata": {
    "tags": []
   },
   "outputs": [],
   "source": [
    "cart.add_items('earphone')"
   ]
  },
  {
   "cell_type": "code",
   "execution_count": 9,
   "id": "d1d2a41d-8061-400c-ae05-3f8f522674ca",
   "metadata": {
    "tags": []
   },
   "outputs": [],
   "source": [
    "cart.add_items('toys')"
   ]
  },
  {
   "cell_type": "code",
   "execution_count": 10,
   "id": "3faf4cb9-ebc9-42ba-ba8a-fec6b6b2721e",
   "metadata": {
    "tags": []
   },
   "outputs": [],
   "source": [
    "cart.add_items('books')"
   ]
  },
  {
   "cell_type": "code",
   "execution_count": 11,
   "id": "95f9bff0-2c89-4d1b-95c2-34e7c3d26802",
   "metadata": {
    "tags": []
   },
   "outputs": [],
   "source": [
    "cart.add_items('watch')\n"
   ]
  },
  {
   "cell_type": "code",
   "execution_count": 12,
   "id": "a2f2e444-a56b-4748-be02-eeef25ce41c6",
   "metadata": {
    "tags": []
   },
   "outputs": [],
   "source": [
    "cart.add_items('hats')"
   ]
  },
  {
   "cell_type": "code",
   "execution_count": 13,
   "id": "256d66a6-451f-4ce0-bab4-17fd31c97e8e",
   "metadata": {
    "tags": []
   },
   "outputs": [
    {
     "name": "stdout",
     "output_type": "stream",
     "text": [
      "earphone\n",
      "toys\n",
      "books\n",
      "watch\n",
      "hats\n"
     ]
    }
   ],
   "source": [
    "cart.view_cart()"
   ]
  },
  {
   "cell_type": "code",
   "execution_count": 14,
   "id": "b29af0ec-9fdc-45ac-a7e9-4ca1a34f7089",
   "metadata": {
    "tags": []
   },
   "outputs": [],
   "source": [
    "cart.remove_items('books')"
   ]
  },
  {
   "cell_type": "code",
   "execution_count": 15,
   "id": "39d15a11-cb8d-4c42-a137-dfbd4f17433d",
   "metadata": {
    "tags": []
   },
   "outputs": [
    {
     "name": "stdout",
     "output_type": "stream",
     "text": [
      "earphone\n",
      "toys\n",
      "watch\n",
      "hats\n"
     ]
    }
   ],
   "source": [
    "cart.view_cart()"
   ]
  },
  {
   "cell_type": "code",
   "execution_count": 16,
   "id": "eefe95ad-d949-4be2-bf39-998100199dc1",
   "metadata": {
    "tags": []
   },
   "outputs": [],
   "source": [
    "cart.remove_items('watch')"
   ]
  },
  {
   "cell_type": "code",
   "execution_count": 17,
   "id": "585e1788-34c1-4c95-9282-e3b2cf3f88d6",
   "metadata": {
    "tags": []
   },
   "outputs": [
    {
     "name": "stdout",
     "output_type": "stream",
     "text": [
      "earphone\n",
      "toys\n",
      "hats\n"
     ]
    }
   ],
   "source": [
    "cart.view_cart()"
   ]
  },
  {
   "cell_type": "code",
   "execution_count": 18,
   "id": "e6982366-6af4-4c93-b5fc-48e4835b033f",
   "metadata": {
    "tags": []
   },
   "outputs": [],
   "source": [
    "cart.clear_cart()"
   ]
  },
  {
   "cell_type": "code",
   "execution_count": 19,
   "id": "2d8d81d2-57f4-45b3-af66-a986a0ae55c4",
   "metadata": {
    "tags": []
   },
   "outputs": [],
   "source": [
    "cart.view_cart()"
   ]
  },
  {
   "cell_type": "code",
   "execution_count": 20,
   "id": "ed724308-3c7a-4b50-9b90-08fa212a6eb2",
   "metadata": {
    "tags": []
   },
   "outputs": [],
   "source": [
    "#10 school management system\n",
    "class school_management:\n",
    "    def __init__(self,name,age,grade,student_id):\n",
    "        self.name=name\n",
    "        self.age=age\n",
    "        self.grade=grade\n",
    "        self.student_id=student_id\n",
    "        self.attendance=[]\n",
    "        self.status=[]\n",
    "     \n",
    "    def update_attendance(self,date,status):\n",
    "        self.attendance.append((date,status))\n",
    " \n",
    "    def get_attendance(self):\n",
    "        for item in self.attendance:\n",
    "            print(item)\n",
    "    def get_average_attendance(self):\n",
    "        for i in range(len(self.attendance)):\n",
    "            s=i+1\n",
    "        \n",
    "        for d,j in (self.attendance):\n",
    "            if j==\"present\":\n",
    "                self.status.append(j)\n",
    "        \n",
    "        for h in range(len(self.status)):\n",
    "            n=h+1\n",
    "        \n",
    "        avarage =(f\"avarage percentage attendance = {n/s*100}\")\n",
    "        print(avarage)\n",
    "            \n",
    "                        "
   ]
  },
  {
   "cell_type": "code",
   "execution_count": 2,
   "id": "e17badb2-e10b-40ec-9ed0-b9cf4c7bffc5",
   "metadata": {
    "tags": []
   },
   "outputs": [],
   "source": [
    "system=school_management(\"krish\",\"14\",\"A\",\"@123\")"
   ]
  },
  {
   "cell_type": "code",
   "execution_count": 3,
   "id": "f8dd0242-6cef-407a-b71d-22edbbc8126e",
   "metadata": {
    "tags": []
   },
   "outputs": [],
   "source": [
    "system.update_attendance(\"1 june\",\"present\")"
   ]
  },
  {
   "cell_type": "code",
   "execution_count": 4,
   "id": "fd0db6c8-e6e2-419e-b36b-88ba48eb5189",
   "metadata": {
    "tags": []
   },
   "outputs": [],
   "source": [
    "system.update_attendance(\"2 june\",\"absent\")\n"
   ]
  },
  {
   "cell_type": "code",
   "execution_count": 5,
   "id": "eafbf2a1-08f3-4f10-832b-11aa70617d6b",
   "metadata": {
    "tags": []
   },
   "outputs": [],
   "source": [
    "system.update_attendance(\"3 june\",\"absent\")"
   ]
  },
  {
   "cell_type": "code",
   "execution_count": 6,
   "id": "0c05f2ca-2510-404a-b2a0-0666fa47bb40",
   "metadata": {
    "tags": []
   },
   "outputs": [],
   "source": [
    "system.update_attendance(\"4 june\",\"absent\")"
   ]
  },
  {
   "cell_type": "code",
   "execution_count": 7,
   "id": "268a6e20-2275-47ff-b04a-5ff1390cdb91",
   "metadata": {
    "tags": []
   },
   "outputs": [],
   "source": [
    "system.update_attendance(\"5 june\",\"present\")"
   ]
  },
  {
   "cell_type": "code",
   "execution_count": 8,
   "id": "cd886916-09ab-4e46-868e-8cb3b5a1dbee",
   "metadata": {
    "tags": []
   },
   "outputs": [],
   "source": [
    "system.update_attendance(\"6 june\",\"present\")"
   ]
  },
  {
   "cell_type": "code",
   "execution_count": 9,
   "id": "7aead761-c751-414d-94bf-ca7fc33f368c",
   "metadata": {
    "tags": []
   },
   "outputs": [],
   "source": [
    "system.update_attendance(\"7 june\",\"present\")"
   ]
  },
  {
   "cell_type": "code",
   "execution_count": 10,
   "id": "971d0fec-8dd1-4805-98eb-a9e3bb716c62",
   "metadata": {
    "tags": []
   },
   "outputs": [],
   "source": [
    "system.update_attendance(\"8 june\",\"absent\")"
   ]
  },
  {
   "cell_type": "code",
   "execution_count": 11,
   "id": "1ad24530-2a02-4862-acb1-225b0e05b816",
   "metadata": {
    "tags": []
   },
   "outputs": [],
   "source": [
    "system.update_attendance(\"9 june\",\"present\")"
   ]
  },
  {
   "cell_type": "code",
   "execution_count": 12,
   "id": "d7d86166-daca-409d-8338-014997339804",
   "metadata": {
    "tags": []
   },
   "outputs": [],
   "source": [
    "system.update_attendance(\"10 june\",\"present\")"
   ]
  },
  {
   "cell_type": "code",
   "execution_count": 13,
   "id": "07583f48-ab44-4306-9327-2bb85a34a836",
   "metadata": {
    "tags": []
   },
   "outputs": [
    {
     "name": "stdout",
     "output_type": "stream",
     "text": [
      "('1 june', 'present')\n",
      "('2 june', 'absent')\n",
      "('3 june', 'absent')\n",
      "('4 june', 'absent')\n",
      "('5 june', 'present')\n",
      "('6 june', 'present')\n",
      "('7 june', 'present')\n",
      "('8 june', 'absent')\n",
      "('9 june', 'present')\n",
      "('10 june', 'present')\n"
     ]
    }
   ],
   "source": [
    "system.get_attendance()"
   ]
  },
  {
   "cell_type": "code",
   "execution_count": 14,
   "id": "6bf653cf-efb1-47a2-9f17-e4622975e05b",
   "metadata": {
    "tags": []
   },
   "outputs": [
    {
     "name": "stdout",
     "output_type": "stream",
     "text": [
      "avarage percentage attendance = 60.0\n"
     ]
    }
   ],
   "source": [
    "system.get_average_attendance()"
   ]
  },
  {
   "cell_type": "code",
   "execution_count": null,
   "id": "b4967f0d-9238-4ce2-84b0-802b97fa2707",
   "metadata": {},
   "outputs": [],
   "source": []
  },
  {
   "cell_type": "code",
   "execution_count": null,
   "id": "b17f4116-786b-45bc-adf1-656ae19d0e34",
   "metadata": {},
   "outputs": [],
   "source": []
  }
 ],
 "metadata": {
  "kernelspec": {
   "display_name": "Python 3 (ipykernel)",
   "language": "python",
   "name": "python3"
  },
  "language_info": {
   "codemirror_mode": {
    "name": "ipython",
    "version": 3
   },
   "file_extension": ".py",
   "mimetype": "text/x-python",
   "name": "python",
   "nbconvert_exporter": "python",
   "pygments_lexer": "ipython3",
   "version": "3.11.5"
  }
 },
 "nbformat": 4,
 "nbformat_minor": 5
}
